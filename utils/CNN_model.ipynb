{
 "cells": [
  {
   "cell_type": "code",
   "execution_count": null,
   "id": "ced74ad8",
   "metadata": {},
   "outputs": [],
   "source": [
    "#loading the dataset\n",
    "dataset = ImageFolder(root='./frames', transform=transform)\n",
    "print(dataset)\n",
    "print(dataset.classes)\n",
    "classes=dataset.classes\n",
    "classes\n"
   ]
  },
  {
   "cell_type": "code",
   "execution_count": null,
   "id": "d4512fd7",
   "metadata": {},
   "outputs": [],
   "source": [
    "# Splitting  the dataset into training, validation, and test sets\n",
    "dataset_size=int(len(dataset))\n",
    "train_dataset_size=int(0.7 * dataset_size)\n",
    "validation_dataset_size = int(0.15 * dataset_size)\n",
    "test_dataset_size = dataset_size-(train_dataset_size+validation_dataset_size)\n",
    "\n",
    "train_dataset, val_dataset, test_dataset = random_split(dataset, [train_dataset_size, validation_dataset_size, test_dataset_size])\n",
    "batch_size=64\n",
    "train_dataloader = DataLoader(train_dataset, batch_size=batch_size, shuffle=True)\n",
    "validation_dataloader = DataLoader(val_dataset, batch_size=batch_size, shuffle=False)\n",
    "test_dataloader = DataLoader(test_dataset, batch_size=batch_size, shuffle=False)\n",
    "\n",
    "print(\"The Dataset size is              :\",dataset_size)\n",
    "print(\"The Train Dataset size is        :\",train_dataset_size)\n",
    "print(\"The Validation  Dataset size is  :\",validation_dataset_size)\n",
    "print(\"The Test  Dataset size is        :\",test_dataset_size)"
   ]
  },
  {
   "cell_type": "code",
   "execution_count": null,
   "id": "589ff5df",
   "metadata": {},
   "outputs": [],
   "source": [
    "\n",
    "#function to display 5 images from the training dataset\n",
    "def displayimage(imgage):\n",
    "    imgage = imgage / 2 + 0.5    \n",
    "    npimg = imgage.numpy()\n",
    "    plt.imshow(np.transpose(npimg, (1, 2, 0)))\n",
    "    plt.show()\n",
    "data_iterator = iter(train_dataloader)\n",
    "images, target_labels = next(data_iterator)\n",
    "displayimage(torchvision.utils.make_grid(images[:5]))\n",
    "print(' '.join(f'{classes[target_labels[j]]:12s}' for j in range(5)))"
   ]
  },
  {
   "cell_type": "code",
   "execution_count": null,
   "id": "316aeb93",
   "metadata": {},
   "outputs": [],
   "source": [
    "\n",
    "# Defining the  the convolutional_neural_network model\n",
    "class ConvolutionalNeuralNetwork(nn.Module):\n",
    "    def __init__(self):\n",
    "        super(ConvolutionalNeuralNetwork, self).__init__()\n",
    "\n",
    "        # Three Convolutional layers\n",
    "        self.convolutional_layer1 = nn.Conv2d(3, 20, kernel_size=3, stride=1, padding=1)\n",
    "        self.convolutional_layer2 = nn.Conv2d(20, 60, kernel_size=3, stride=1, padding=1)\n",
    "        self.convolutional_layer3 = nn.Conv2d(60, 100, kernel_size=3, stride=1, padding=1)\n",
    "        self.convolutional_layer4 = nn.Conv2d(100, 200, kernel_size=3, stride=1, padding=1)\n",
    "        \n",
    "        \n",
    "        # Two Fully connected layers\n",
    "        self.fully_connected_layer4 = nn.Linear(200 * 28 * 28, 200)\n",
    "        self.fully_connected_layer5 = nn.Linear(200, 150)\n",
    "        self.fully_connected_layer6 = nn.Linear(150, 80)\n",
    "        \n",
    "        #relu activation function\n",
    "        self.relu = nn.ReLU()\n",
    "        \n",
    "        #Maxpooling\n",
    "        self.maxpool = nn.MaxPool2d(kernel_size=2, stride=2)\n",
    "        \n",
    "        #Adding dropout\n",
    "        self.dropout = nn.Dropout(p=0.5)\n",
    "        \n",
    "    def forward(self, x):\n",
    "        \n",
    "        conv1_out = self.maxpool(self.relu(self.convolutional_layer1(x)))\n",
    "        conv2_out = self.maxpool(self.relu(self.convolutional_layer2(conv1_out)))\n",
    "        conv3_out = self.maxpool(self.relu(self.convolutional_layer3(conv2_out)))\n",
    "        conv4_out = self.maxpool(self.relu(self.convolutional_layer3(conv3_out)))\n",
    "        flatten_output = conv3_out.view(x.size(0), -1)\n",
    "        fc4_out = self.dropout(self.relu(self.fully_connected_layer4(flatten_output)))\n",
    "        fc5_out = self.dropout(self.relu(self.fully_connected_layer4(fc4_out)))\n",
    "        fc6_out = self.fully_connected_layer5(fc5_out)\n",
    "        \n",
    "        return fc6_out\n",
    "      "
   ]
  },
  {
   "cell_type": "code",
   "execution_count": null,
   "id": "dbe509c1",
   "metadata": {},
   "outputs": [],
   "source": [
    "#Displaying the model structure\n",
    "project_model = ConvolutionalNeuralNetwork()\n",
    "print(project_model)"
   ]
  }
 ],
 "metadata": {
  "kernelspec": {
   "display_name": "Python 3 (ipykernel)",
   "language": "python",
   "name": "python3"
  },
  "language_info": {
   "codemirror_mode": {
    "name": "ipython",
    "version": 3
   },
   "file_extension": ".py",
   "mimetype": "text/x-python",
   "name": "python",
   "nbconvert_exporter": "python",
   "pygments_lexer": "ipython3",
   "version": "3.11.3"
  }
 },
 "nbformat": 4,
 "nbformat_minor": 5
}
