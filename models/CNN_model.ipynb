{
 "cells": [
  {
   "cell_type": "code",
   "execution_count": 1,
   "id": "316aeb93",
   "metadata": {},
   "outputs": [],
   "source": [
    "import torch\n",
    "import torch.nn as nn"
   ]
  },
  {
   "cell_type": "code",
   "execution_count": 2,
   "id": "49c18eb9",
   "metadata": {},
   "outputs": [],
   "source": [
    "\n",
    "# Defining the  the convolutional_neural_network model\n",
    "class ConvolutionalNeuralNetwork(nn.Module):\n",
    "    def __init__(self):\n",
    "        super(ConvolutionalNeuralNetwork, self).__init__()\n",
    "\n",
    "        # Three Convolutional layers\n",
    "        self.convolutional_layer1 = nn.Conv2d(3, 20, kernel_size=3, stride=1, padding=1)\n",
    "        self.convolutional_layer2 = nn.Conv2d(20, 60, kernel_size=3, stride=1, padding=1)\n",
    "        self.convolutional_layer3 = nn.Conv2d(60, 100, kernel_size=3, stride=1, padding=1)\n",
    "        self.convolutional_layer4 = nn.Conv2d(100, 200, kernel_size=3, stride=1, padding=1)\n",
    "        \n",
    "        \n",
    "        # Two Fully connected layers\n",
    "        self.fully_connected_layer4 = nn.Linear(200 * 28 * 28, 200)\n",
    "        self.fully_connected_layer5 = nn.Linear(200, 150)\n",
    "        self.fully_connected_layer6 = nn.Linear(150, 80)\n",
    "        \n",
    "        #relu activation function\n",
    "        self.relu = nn.ReLU()\n",
    "        \n",
    "        #Maxpooling\n",
    "        self.maxpool = nn.MaxPool2d(kernel_size=2, stride=2)\n",
    "        \n",
    "        #Adding dropout\n",
    "        self.dropout = nn.Dropout(p=0.5)\n",
    "        \n",
    "    def forward(self, x):\n",
    "        \n",
    "        conv1_out = self.maxpool(self.relu(self.convolutional_layer1(x)))\n",
    "        conv2_out = self.maxpool(self.relu(self.convolutional_layer2(conv1_out)))\n",
    "        conv3_out = self.maxpool(self.relu(self.convolutional_layer3(conv2_out)))\n",
    "        conv4_out = self.maxpool(self.relu(self.convolutional_layer3(conv3_out)))\n",
    "        flatten_output = conv3_out.view(x.size(0), -1)\n",
    "        fc4_out = self.dropout(self.relu(self.fully_connected_layer4(flatten_output)))\n",
    "        fc5_out = self.dropout(self.relu(self.fully_connected_layer4(fc4_out)))\n",
    "        fc6_out = self.fully_connected_layer5(fc5_out)\n",
    "        \n",
    "        return fc6_out\n",
    "      "
   ]
  },
  {
   "cell_type": "code",
   "execution_count": 3,
   "id": "dbe509c1",
   "metadata": {},
   "outputs": [
    {
     "name": "stdout",
     "output_type": "stream",
     "text": [
      "ConvolutionalNeuralNetwork(\n",
      "  (convolutional_layer1): Conv2d(3, 20, kernel_size=(3, 3), stride=(1, 1), padding=(1, 1))\n",
      "  (convolutional_layer2): Conv2d(20, 60, kernel_size=(3, 3), stride=(1, 1), padding=(1, 1))\n",
      "  (convolutional_layer3): Conv2d(60, 100, kernel_size=(3, 3), stride=(1, 1), padding=(1, 1))\n",
      "  (convolutional_layer4): Conv2d(100, 200, kernel_size=(3, 3), stride=(1, 1), padding=(1, 1))\n",
      "  (fully_connected_layer4): Linear(in_features=156800, out_features=200, bias=True)\n",
      "  (fully_connected_layer5): Linear(in_features=200, out_features=150, bias=True)\n",
      "  (fully_connected_layer6): Linear(in_features=150, out_features=80, bias=True)\n",
      "  (relu): ReLU()\n",
      "  (maxpool): MaxPool2d(kernel_size=2, stride=2, padding=0, dilation=1, ceil_mode=False)\n",
      "  (dropout): Dropout(p=0.5, inplace=False)\n",
      ")\n"
     ]
    }
   ],
   "source": [
    "#Displaying the model structure\n",
    "project_model = ConvolutionalNeuralNetwork()\n",
    "print(project_model)"
   ]
  }
 ],
 "metadata": {
  "kernelspec": {
   "display_name": "Python 3 (ipykernel)",
   "language": "python",
   "name": "python3"
  },
  "language_info": {
   "codemirror_mode": {
    "name": "ipython",
    "version": 3
   },
   "file_extension": ".py",
   "mimetype": "text/x-python",
   "name": "python",
   "nbconvert_exporter": "python",
   "pygments_lexer": "ipython3",
   "version": "3.11.3"
  }
 },
 "nbformat": 4,
 "nbformat_minor": 5
}
